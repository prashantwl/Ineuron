{
 "cells": [
  {
   "cell_type": "markdown",
   "id": "773a585a",
   "metadata": {},
   "source": [
    "# Q1. What is the relationship between classes and modules?\n"
   ]
  },
  {
   "cell_type": "markdown",
   "id": "2f006a9a",
   "metadata": {},
   "source": [
    "Ans: A Python class is like an outline/blueprint/mold for creating a new object. An object is anything that you wish to manipulate or change while working through the code. Every time a class object is instantiated, which is when we declare a variable, a new object is initiated from scratch\n",
    "\n",
    "Whereas in Python, Modules are simply files with the . py extension containing Python code that can be imported inside another Python Program. In simple terms, we can consider a module to be the same as a code library or a file that contains a set of functions/Classes that you want to include in your application.\n",
    "\n"
   ]
  },
  {
   "cell_type": "markdown",
   "id": "984ef011",
   "metadata": {},
   "source": [
    "# Q2. How do you make instances and classes?\n"
   ]
  },
  {
   "cell_type": "markdown",
   "id": "964ffd03",
   "metadata": {},
   "source": [
    "Ans: For creating a class instance. we call a class by its name and pass the arguments which its __init__ method accepts.\n",
    "\n",
    "Example: vishwak = employee('Male',20000), Here vishwak is an instance of class employee with attriubutes 'Male' and 20000.\n",
    "\n",
    "Whereas for creating a class, we use the Class keyword. Class keyword is followed by classname and semicolon.\n",
    "\n",
    "Example: Here Employee is a class created with class keyword with arguments gender and salary.\n",
    "\n",
    "class Employee:\n",
    "    def __init__(self, gender,salary):\n",
    "        self.gender = gender\n",
    "        self.salary = salary"
   ]
  },
  {
   "cell_type": "markdown",
   "id": "141ce973",
   "metadata": {},
   "source": [
    "# Q3. Where and how should be class attributes created?\n"
   ]
  },
  {
   "cell_type": "raw",
   "id": "30dae858",
   "metadata": {},
   "source": [
    "Ans: Class attributes or Class level Attributes belong to the class itself. these attributes will be shared by all the instances of the class. Hence these attributes are usually created/defined in the top of class definiation outside all methods.\n",
    "\n",
    "Example: In the below code we are defining a class attribute called no_of_wheels which will be shared by all the instances of the class Car\n",
    "\n",
    "class Car:\n",
    "    no_of_wheels = 4; # this is a class attribute\n",
    "    def __init__(self,color,price,engine):\n",
    "        self.color = color # All this are instance attributes\n",
    "        self.price = price\n",
    "        self.engine = engine"
   ]
  },
  {
   "cell_type": "markdown",
   "id": "9ed20a49",
   "metadata": {},
   "source": [
    "# Q4. Where and how are instance attributes created?\n"
   ]
  },
  {
   "cell_type": "markdown",
   "id": "d554a471",
   "metadata": {},
   "source": [
    "Ans: Instances attributes are passed to the class when an object of the class is created. Unlike class attributes, instance attributes are not shared by all objects of the classs. instead each object maintains its own copy of instance attributes at object level. whereas incase of class attributes all instances of class refer to a single copy. Usually instance attributes are defined within the __init__ method of class\n",
    "\n",
    "Example: In the below sample code we are creating a class Car with instance varaibles color, price, engine, which will be provided when an instance of class Car is created.\n",
    "\n",
    "class Car:\n",
    "    def __init__(self,color,price,engine):\n",
    "        self.color = color # All this are instance attributes\n",
    "        self.price = price\n",
    "        self.engine = engine\n",
    "\n",
    "nexon_ev = Car('Indigo Blue', 1400000, 'electric')\n",
    "safari = Car('Pearl White',2100000, 'petrol')\n",
    "\n",
    "nexon_ev, safari are both the instances of class Car with different instance variables."
   ]
  },
  {
   "cell_type": "markdown",
   "id": "d39464e7",
   "metadata": {},
   "source": [
    "# Q5. What does the term \"self\" in a Python class mean?\n"
   ]
  },
  {
   "cell_type": "markdown",
   "id": "71f9ad09",
   "metadata": {},
   "source": [
    "Ans: self represents the instance of the class (it represents the object itself). By using the “self” keyword we can access the attributes and methods of the class with in the class in python. It binds the attributes with the given arguments.\n",
    "\n"
   ]
  },
  {
   "cell_type": "markdown",
   "id": "76c26a6f",
   "metadata": {},
   "source": [
    "# Q6. How does a Python class handle operator overloading?\n"
   ]
  },
  {
   "cell_type": "markdown",
   "id": "29710812",
   "metadata": {},
   "source": [
    "Ans: Python Classes handle operator overloading by using special methods called Magic methods. these special methods usually begin and end with __ (double underscore)\n"
   ]
  },
  {
   "cell_type": "markdown",
   "id": "59ee0696",
   "metadata": {},
   "source": [
    "# Q7. When do you consider allowing operator overloading of your classes?\n"
   ]
  },
  {
   "cell_type": "markdown",
   "id": "c43bce7e",
   "metadata": {},
   "source": [
    "Ans: When we want to have different meaning for the same operator accroding to the context we use operator overloading.\n",
    "\n"
   ]
  },
  {
   "cell_type": "markdown",
   "id": "08e31ace",
   "metadata": {},
   "source": [
    "# Q8. What is the most popular form of operator overloading?\n"
   ]
  },
  {
   "cell_type": "markdown",
   "id": "154302d6",
   "metadata": {},
   "source": [
    "Ans: The most popular form of operator overloading in python is by special methods called Magic methods. Which usually beign and end with double underscore __<method name>__.\n",
    "\n"
   ]
  },
  {
   "cell_type": "markdown",
   "id": "befcfbc6",
   "metadata": {},
   "source": [
    "# Q9. What are the two most important concepts to grasp in order to comprehend Python OOP code?\n"
   ]
  },
  {
   "cell_type": "markdown",
   "id": "21aea72e",
   "metadata": {},
   "source": [
    "Ans: Classes and objects are the two concepts to comprehend python OOP code as more formally objects are entities that represent instances of general abstract concept called class\n",
    "\n",
    "Along with classes and objects the important concepts to grasp are:\n",
    "\n",
    "1.Inheritence\n",
    "2.Abstraction\n",
    "3.Polymorphism\n",
    "4.Encapsulation"
   ]
  },
  {
   "cell_type": "code",
   "execution_count": null,
   "id": "316e1698",
   "metadata": {},
   "outputs": [],
   "source": []
  }
 ],
 "metadata": {
  "kernelspec": {
   "display_name": "Python 3 (ipykernel)",
   "language": "python",
   "name": "python3"
  },
  "language_info": {
   "codemirror_mode": {
    "name": "ipython",
    "version": 3
   },
   "file_extension": ".py",
   "mimetype": "text/x-python",
   "name": "python",
   "nbconvert_exporter": "python",
   "pygments_lexer": "ipython3",
   "version": "3.9.7"
  }
 },
 "nbformat": 4,
 "nbformat_minor": 5
}
