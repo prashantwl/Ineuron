{
 "cells": [
  {
   "cell_type": "markdown",
   "id": "c818a35a",
   "metadata": {},
   "source": [
    "# Q1. What is the distinction between a numpy array and a pandas data frame? Is there a way to convert between the two if there is ?\n"
   ]
  },
  {
   "cell_type": "markdown",
   "id": "2769e703",
   "metadata": {},
   "source": [
    "Ans: Numpy Ndarray provides a lot of convenient and optimized methods for performing several mathematical operations on vectors.\n",
    "\n",
    "Pandas Dataframe is an in-memory 2-dimensional tabular representation of data. In simpler words, it can be seen as a spreadsheet having rows and columns.\n",
    "\n",
    "Conversion : Dataframe=pandas.DataFrame(array)"
   ]
  },
  {
   "cell_type": "markdown",
   "id": "70eb74e7",
   "metadata": {},
   "source": [
    "# Q2. Identify some of the plotting techniques that are used to produce a stock-market chart ?\n"
   ]
  },
  {
   "cell_type": "markdown",
   "id": "b310d7e3",
   "metadata": {},
   "source": [
    "Ans: Bar chart, Line Chart are used for plotting.\n",
    "\n"
   ]
  },
  {
   "cell_type": "markdown",
   "id": "10270fb1",
   "metadata": {},
   "source": [
    "# Q3. Why is it essential to print a legend on a stock market chart ?\n"
   ]
  },
  {
   "cell_type": "markdown",
   "id": "b6f5a451",
   "metadata": {},
   "source": [
    "Ans: Legend will help comparison between different stocks, so will be essential on a stock market chart\n",
    "\n"
   ]
  },
  {
   "cell_type": "markdown",
   "id": "d512b1cf",
   "metadata": {},
   "source": [
    "# Q4. What is the best way to limit the length of a pandas data frame to less than a year ?\n"
   ]
  },
  {
   "cell_type": "markdown",
   "id": "f0895ea0",
   "metadata": {},
   "source": [
    "Ans: : We can use start and end parameters for that. In start we write the date from where we are starting and at the end we write the end date. SO within this span we can restric the duration.Also we can use the parameters like periods for how much times we need the duration and we can also use the frequency parameter.\n",
    "\n"
   ]
  },
  {
   "cell_type": "code",
   "execution_count": null,
   "id": "8db8fc55",
   "metadata": {},
   "outputs": [],
   "source": []
  }
 ],
 "metadata": {
  "kernelspec": {
   "display_name": "Python 3 (ipykernel)",
   "language": "python",
   "name": "python3"
  },
  "language_info": {
   "codemirror_mode": {
    "name": "ipython",
    "version": 3
   },
   "file_extension": ".py",
   "mimetype": "text/x-python",
   "name": "python",
   "nbconvert_exporter": "python",
   "pygments_lexer": "ipython3",
   "version": "3.9.7"
  }
 },
 "nbformat": 4,
 "nbformat_minor": 5
}
