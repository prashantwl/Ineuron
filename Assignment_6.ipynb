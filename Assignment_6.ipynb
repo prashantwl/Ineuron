{
 "cells": [
  {
   "cell_type": "markdown",
   "id": "7c797c7c",
   "metadata": {},
   "source": [
    "# Q1. Describe three applications for exception processing.\n"
   ]
  },
  {
   "cell_type": "markdown",
   "id": "fe933d0a",
   "metadata": {},
   "source": [
    "Ans: Exception Processing is important to find exceptions that causes the runtime error. As runtime errors Halt the program execution when exception occurs.\n",
    "\n",
    "Exception Processing is used in Various Applications of which few examples are:\n",
    "\n",
    "1. Checking Appropriate use of input in an application\n",
    "2. Checking for Arithmetic exceptions in mathematical executions\n",
    "3. Checking File I/O exceptions during File handling"
   ]
  },
  {
   "cell_type": "markdown",
   "id": "7ad06d3a",
   "metadata": {},
   "source": [
    "# Q2. What happens if you don't do something extra to treat an exception?\n"
   ]
  },
  {
   "cell_type": "markdown",
   "id": "663f01b1",
   "metadata": {},
   "source": [
    "Ans: If Exceptions are not handled flow of program will be broken during the run time which might lead to a abnormal termination of the program. Inshort inability of program to handle exceptions will result in crashing of program."
   ]
  },
  {
   "cell_type": "markdown",
   "id": "64f2896f",
   "metadata": {},
   "source": [
    "# Q3. What are your options for recovering from an exception in your script?\n"
   ]
  },
  {
   "cell_type": "markdown",
   "id": "ecd2395c",
   "metadata": {},
   "source": [
    "Ans: Python provides try and except statements for recovering from an exception in your script.\n",
    "\n"
   ]
  },
  {
   "cell_type": "markdown",
   "id": "519973d2",
   "metadata": {},
   "source": [
    "# Q4. Describe two methods for triggering exceptions in your script ?\n"
   ]
  },
  {
   "cell_type": "markdown",
   "id": "49bfb28f",
   "metadata": {},
   "source": [
    "Ans: raise and assert are two methods that can be used to trigger manual exceptions in your script.\n",
    "\n",
    "- raise method triggers an exception if condition provided to it turns out to be True.  \n",
    "- assert will let the program to continue execution if condition provided to it turns out to be True else exception will be raised"
   ]
  },
  {
   "cell_type": "markdown",
   "id": "0e1a8af6",
   "metadata": {},
   "source": [
    "\n",
    "# Q5. Identify two methods for specifying actions to be executed at termination time, regardless of whether or not an exception exists.\n"
   ]
  },
  {
   "cell_type": "markdown",
   "id": "24ae71a9",
   "metadata": {},
   "source": [
    "Ans: Python Provides else and finally blocks for specifying actions to be executed at termination time, regardless of whether an exceptions exists or not."
   ]
  },
  {
   "cell_type": "code",
   "execution_count": null,
   "id": "741de088",
   "metadata": {},
   "outputs": [],
   "source": []
  }
 ],
 "metadata": {
  "kernelspec": {
   "display_name": "Python 3 (ipykernel)",
   "language": "python",
   "name": "python3"
  },
  "language_info": {
   "codemirror_mode": {
    "name": "ipython",
    "version": 3
   },
   "file_extension": ".py",
   "mimetype": "text/x-python",
   "name": "python",
   "nbconvert_exporter": "python",
   "pygments_lexer": "ipython3",
   "version": "3.9.7"
  }
 },
 "nbformat": 4,
 "nbformat_minor": 5
}
