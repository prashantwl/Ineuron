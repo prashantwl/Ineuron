{
 "cells": [
  {
   "cell_type": "markdown",
   "id": "c48233db",
   "metadata": {},
   "source": [
    "# Q1. Explain the difference between greedy and non-greedy syntax with visual terms in as few wordsas possible. What is the bare minimum effort required to transform a greedy pattern into a non-greed one? What characters or characters can you introduce or change?"
   ]
  },
  {
   "cell_type": "markdown",
   "id": "dca764b1",
   "metadata": {},
   "source": [
    "Ans: The Main difference between Greedy and Non Greedy Match Syntax is The Greedy Match will try to match as many repetitions of the quantified pattern as possible Whereas The Non Greedy Match will try to match as few repetitions of the quantified pattern as possible\n",
    "\n"
   ]
  },
  {
   "cell_type": "markdown",
   "id": "e186adba",
   "metadata": {},
   "source": [
    "# Q2. When exactly does greedy versus non-greedy make a difference? What if you're looking for a non-greedy match but the only one available is greedy?\n"
   ]
  },
  {
   "cell_type": "markdown",
   "id": "42d11129",
   "metadata": {},
   "source": [
    "Ans: The Greedy Match will try to match as many repetitions of the quantified pattern as possible. The Non Greedy Match will try to match as few repetitions of the quantified pattern as possible. If only Non Greedy Match is available, we can use other filtering or pattern matching methods of regex and further identify the required pattern.\n",
    "\n"
   ]
  },
  {
   "cell_type": "markdown",
   "id": "014d1560",
   "metadata": {},
   "source": [
    "# Q3. In a simple match of a string, which looks only for one match and does not do any replacement, is the use of a nontagged group likely to make any practical difference?\n"
   ]
  },
  {
   "cell_type": "markdown",
   "id": "4ff84c93",
   "metadata": {},
   "source": [
    "Ans: In this Case The Non Tagged Group will not make any diffrence in this case.\n",
    "\n"
   ]
  },
  {
   "cell_type": "code",
   "execution_count": 1,
   "id": "82642a43",
   "metadata": {},
   "outputs": [
    {
     "name": "stdout",
     "output_type": "stream",
     "text": [
      "Phone number found -> 351\n",
      "Phone number found -> 351\n"
     ]
    }
   ],
   "source": [
    "import re\n",
    "phoneNumRegex = re.compile(r'\\d\\d\\d')\n",
    "num = phoneNumRegex.search('My number is 351-567-222.')\n",
    "print(f'Phone number found -> {num.group()}') \n",
    "print(f'Phone number found -> {num.group(0)}')"
   ]
  },
  {
   "cell_type": "markdown",
   "id": "81e3d83b",
   "metadata": {},
   "source": [
    "# Q4. Describe a scenario in which using a nontagged category would have a significant impact on the program's outcomes ?\n"
   ]
  },
  {
   "cell_type": "markdown",
   "id": "1ef7d34d",
   "metadata": {},
   "source": [
    "Ans: Here in the below Code Snippet . decimal is not tagged or captured. It will useful in scenarios where the separator of value in a string is of no use and we need to capture only the values.\n",
    "\n"
   ]
  },
  {
   "cell_type": "code",
   "execution_count": 2,
   "id": "074e5684",
   "metadata": {},
   "outputs": [
    {
     "data": {
      "text/plain": [
       "('112', '978')"
      ]
     },
     "execution_count": 2,
     "metadata": {},
     "output_type": "execute_result"
    }
   ],
   "source": [
    "import re\n",
    "text='112.978'\n",
    "pattern=r'(\\d+)(?:.)(\\d+)'\n",
    "regobj=re.compile(pattern)\n",
    "matobj=regobj.search(text)\n",
    "matobj.groups()"
   ]
  },
  {
   "cell_type": "markdown",
   "id": "88f1aa16",
   "metadata": {},
   "source": [
    "# Q5. Unlike a normal regex pattern, a look-ahead condition does not consume the characters it examines. Describe a situation in which this could make a difference in the results of your programme ?\n"
   ]
  },
  {
   "cell_type": "markdown",
   "id": "486a8182",
   "metadata": {},
   "source": [
    "Ans: While counting the number of multiple lines or mutiple sentence in a string the positive look ahead makes a difference, without which we wont get the correct count of lines or sentences in a string.\n",
    "\n"
   ]
  },
  {
   "cell_type": "markdown",
   "id": "cd553552",
   "metadata": {},
   "source": [
    "# Q6. In standard expressions, what is the difference between positive look-ahead and negative look-ahead ?\n"
   ]
  },
  {
   "cell_type": "markdown",
   "id": "ff60b896",
   "metadata": {},
   "source": [
    "Ans: Positive Lookahead allows to add a condition for what follows. Negative Lookahead is similar, but it looks behind. That is, it allows to match a pattern only if there’s something before it.\n",
    "\n"
   ]
  },
  {
   "cell_type": "markdown",
   "id": "440e229b",
   "metadata": {},
   "source": [
    "# Q7. What is the benefit of referring to groups by name rather than by number in a standard expression?\n"
   ]
  },
  {
   "cell_type": "markdown",
   "id": "89bea668",
   "metadata": {},
   "source": [
    "Ans: Referring to groups by name rather than by number in a standard expression helps to keep the code clear and easy to understand.\n",
    "\n"
   ]
  },
  {
   "cell_type": "markdown",
   "id": "098d4f39",
   "metadata": {},
   "source": [
    "# Q8. Can you identify repeated items within a target string using named groups, as in \"The cow jumped over the moon\"?\n"
   ]
  },
  {
   "cell_type": "code",
   "execution_count": 3,
   "id": "68b433e3",
   "metadata": {},
   "outputs": [
    {
     "data": {
      "text/plain": [
       "[]"
      ]
     },
     "execution_count": 3,
     "metadata": {},
     "output_type": "execute_result"
    }
   ],
   "source": [
    "import re\n",
    "text = \"Hey my name is Prashant\"\n",
    "regobj=re.compile(r'(?P<w1>The)',re.I)\n",
    "regobj.findall(text)"
   ]
  },
  {
   "cell_type": "markdown",
   "id": "aa176b15",
   "metadata": {},
   "source": [
    "# Q9. When parsing a string, what is at least one thing that the Scanner interface does for you that the re.findall feature does not ?\n"
   ]
  },
  {
   "cell_type": "markdown",
   "id": "7841a0b9",
   "metadata": {},
   "source": [
    "Ans: re.findall() module is used to search for all occurrences that match a given pattern. In contrast, re.search() will only return the first occurrence that matches the specified pattern. re.findall() will iterate over all the lines of the file and will return all non-overlapping matches of pattern in a single step.\n",
    "\n"
   ]
  },
  {
   "cell_type": "markdown",
   "id": "68fa88e9",
   "metadata": {},
   "source": [
    "# Q10. Does a scanner object have to be named scanner?\n"
   ]
  },
  {
   "cell_type": "markdown",
   "id": "a5a48ee4",
   "metadata": {},
   "source": [
    "Ans: Yes, It may have any name."
   ]
  },
  {
   "cell_type": "code",
   "execution_count": null,
   "id": "4c3b2a91",
   "metadata": {},
   "outputs": [],
   "source": []
  }
 ],
 "metadata": {
  "kernelspec": {
   "display_name": "Python 3 (ipykernel)",
   "language": "python",
   "name": "python3"
  },
  "language_info": {
   "codemirror_mode": {
    "name": "ipython",
    "version": 3
   },
   "file_extension": ".py",
   "mimetype": "text/x-python",
   "name": "python",
   "nbconvert_exporter": "python",
   "pygments_lexer": "ipython3",
   "version": "3.9.7"
  }
 },
 "nbformat": 4,
 "nbformat_minor": 5
}
