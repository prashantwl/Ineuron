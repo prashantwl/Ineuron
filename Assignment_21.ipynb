{
 "cells": [
  {
   "cell_type": "markdown",
   "id": "afc6d7ee",
   "metadata": {},
   "source": [
    "# Q1. What is a probability distribution, exactly? If the values are meant to be random, how can you predict them at all ?\n"
   ]
  },
  {
   "cell_type": "markdown",
   "id": "935fb5db",
   "metadata": {},
   "source": [
    "Ans: A probability distribution describes how a random variable is distributed.\n",
    "\n",
    "It tells us which values a random variable is most likely to take on and which values are less likely. Based on the previous data and the occurences of the random event, we can predict the outcome in terms of probabilities."
   ]
  },
  {
   "cell_type": "markdown",
   "id": "069f149f",
   "metadata": {},
   "source": [
    "# Q2. Is there a distinction between true random numbers and pseudo-random numbers, if there is one? Why are the latter considered “good enough”?\n"
   ]
  },
  {
   "cell_type": "markdown",
   "id": "09f0b2aa",
   "metadata": {},
   "source": [
    "Ans: : True Random Numbers are true physical values while pseudo-random numbers are generated internally by a program . Latter is considered good enough as they have sort of uniform distribution.\n",
    "\n"
   ]
  },
  {
   "cell_type": "markdown",
   "id": "d4f0b613",
   "metadata": {},
   "source": [
    "# Q3. What are the two main factors that influence the behaviour of a \"normal\" probability distribution ?\n"
   ]
  },
  {
   "cell_type": "markdown",
   "id": "d105d34d",
   "metadata": {},
   "source": [
    "Ans: Normal Probability Distribution are influenced by two factors mean and the variance.\n",
    "\n"
   ]
  },
  {
   "cell_type": "markdown",
   "id": "1ed2aed0",
   "metadata": {},
   "source": [
    "# Q4. Provide a real-life example of a normal distribution ?\n"
   ]
  },
  {
   "cell_type": "markdown",
   "id": "592f8f01",
   "metadata": {},
   "source": [
    "Ans: A Real-life example of a normal distribution are heights or blood pressure measurements\n",
    "\n"
   ]
  },
  {
   "cell_type": "markdown",
   "id": "799da7f2",
   "metadata": {},
   "source": [
    "# Q5. In the short term, how can you expect a probability distribution to behave? What do you think will happen as the number of trials grows ?\n",
    "\n"
   ]
  },
  {
   "cell_type": "markdown",
   "id": "84997b9d",
   "metadata": {},
   "source": [
    "Ans: Variance will decrease with number of trials\n"
   ]
  },
  {
   "cell_type": "markdown",
   "id": "5ff2c68a",
   "metadata": {},
   "source": [
    "# Q6. What kind of object can be shuffled by using random.shuffle ?\n"
   ]
  },
  {
   "cell_type": "raw",
   "id": "984780d4",
   "metadata": {},
   "source": [
    "Ans: lists (list), strings (str) and tuples (tuple) objects can be shuffled by using random.shuffle.\n",
    "\n"
   ]
  },
  {
   "cell_type": "markdown",
   "id": "b0795d32",
   "metadata": {},
   "source": [
    "# Q7. Describe the math package's general categories of functions ?\n"
   ]
  },
  {
   "cell_type": "markdown",
   "id": "72d6b319",
   "metadata": {},
   "source": [
    "Ans: The Math package's general categories of functions are:\n",
    "\n",
    "Trigonometric functions\n",
    "\n",
    "Quadratic functions\n",
    "\n",
    "Exponential functions\n",
    "\n",
    "Hyperbolic functions\n",
    "\n",
    "Periodic functions\n",
    "\n",
    "Arithmetic functions\n",
    "\n",
    "Logarithimic functions\n",
    "\n",
    "Conversions to Integer"
   ]
  },
  {
   "cell_type": "markdown",
   "id": "958caa82",
   "metadata": {},
   "source": [
    "# Q8. What is the relationship between exponentiation and logarithms ?\n"
   ]
  },
  {
   "cell_type": "markdown",
   "id": "78bc516a",
   "metadata": {},
   "source": [
    "Ans: Exponentiation and logarithms are inverse of each other."
   ]
  },
  {
   "cell_type": "markdown",
   "id": "49499523",
   "metadata": {},
   "source": [
    "# Q9. What are the three logarithmic functions that Python supports ?\n"
   ]
  },
  {
   "cell_type": "markdown",
   "id": "19fc1294",
   "metadata": {},
   "source": [
    "Ans: The Three Logarithmic Functions that Python supports are:\n",
    "\n",
    "log2(x) - logarithmic value of x to base 2\n",
    "\n",
    "log10(x) - logarithmic value of x to base 10\n",
    "\n",
    "log1p(a) - This function is used to compute logarithm(1+a) ."
   ]
  },
  {
   "cell_type": "code",
   "execution_count": null,
   "id": "62f93c11",
   "metadata": {},
   "outputs": [],
   "source": []
  }
 ],
 "metadata": {
  "kernelspec": {
   "display_name": "Python 3 (ipykernel)",
   "language": "python",
   "name": "python3"
  },
  "language_info": {
   "codemirror_mode": {
    "name": "ipython",
    "version": 3
   },
   "file_extension": ".py",
   "mimetype": "text/x-python",
   "name": "python",
   "nbconvert_exporter": "python",
   "pygments_lexer": "ipython3",
   "version": "3.9.7"
  }
 },
 "nbformat": 4,
 "nbformat_minor": 5
}
